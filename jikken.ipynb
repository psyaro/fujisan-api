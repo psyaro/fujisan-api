{
 "cells": [
  {
   "cell_type": "code",
   "execution_count": 2,
   "metadata": {},
   "outputs": [],
   "source": [
    "import pandas as pd\n",
    "import requests\n",
    "import geopandas as gpd\n",
    "import pymap3d as pm"
   ]
  },
  {
   "cell_type": "code",
   "execution_count": 7,
   "metadata": {},
   "outputs": [],
   "source": [
    "def get_elev(lon, lat):\n",
    "    x = 'http://cyberjapandata2.gsi.go.jp/general/dem/scripts/getelevation.php'\n",
    "    res = requests.get(x, params=dict(lon=lon, lat=lat, outtype='JSON')).json()\n",
    "    return res['elevation']"
   ]
  },
  {
   "cell_type": "code",
   "execution_count": 8,
   "metadata": {},
   "outputs": [],
   "source": [
    "def getstainfo(staname):\n",
    "    sta = pd.read_csv('all_stations.csv')\n",
    "    sta = gpd.GeoDataFrame(sta, geometry=gpd.points_from_xy(sta.x, sta.y), crs=2451).to_crs(4612)\n",
    "    sta = sta.sort_values('tokyo')\n",
    "    ans = sta[sta.station == staname].geometry.values[0]\n",
    "    return ans"
   ]
  },
  {
   "cell_type": "markdown",
   "metadata": {},
   "source": [
    "# お前の最寄り駅から富士山は見える？チェック"
   ]
  },
  {
   "cell_type": "code",
   "execution_count": 9,
   "metadata": {},
   "outputs": [
    {
     "data": {
      "text/plain": [
       "'みえない(ノω･､)うぅ…'"
      ]
     },
     "execution_count": 9,
     "metadata": {},
     "output_type": "execute_result"
    }
   ],
   "source": [
    "def fujisan(staname):\n",
    "    lat_Fuji = 35.360556 # [deg]\n",
    "    lon_Fuji = 138.727778 # [deg]\n",
    "    alt_Fuji = 3776 # 楕円体高 [m]\n",
    "    ans = getstainfo(staname)\n",
    "    lon_Kokyo, lat_Kokyo = ans.x, ans.y\n",
    "    alt_Kokyo = get_elev(ans.x, ans.y)\n",
    "    x,y,z = pm.geodetic2ecef(lat_Kokyo, lon_Kokyo, alt_Kokyo)\n",
    "    az,el,range = pm.geodetic2aer(lat_Fuji, lon_Fuji, alt_Fuji, lat_Kokyo, lon_Kokyo, alt_Kokyo)\n",
    "    msg = 'みえる！' if el > 0 else 'みえない(ノω･､)うぅ…'\n",
    "    detail = \"ECEF座標 : %d [m], %d [m], %d [m]\" % (x, y, z) + \\\n",
    "        \"\\n方位角 = %.1f [deg], 仰角 = %.1f [deg], 直線距離 = %.1f [m]\" % (az, el, range)\n",
    "    return dict(msg=msg, detail=detail, data=[az, el, range])\n",
    "fujisan('京都')['msg']"
   ]
  },
  {
   "cell_type": "code",
   "execution_count": null,
   "metadata": {},
   "outputs": [],
   "source": []
  }
 ],
 "metadata": {
  "interpreter": {
   "hash": "949777d72b0d2535278d3dc13498b2535136f6dfe0678499012e853ee9abcab1"
  },
  "kernelspec": {
   "display_name": "Python 3.8.12 64-bit",
   "language": "python",
   "name": "python3"
  },
  "language_info": {
   "codemirror_mode": {
    "name": "ipython",
    "version": 3
   },
   "file_extension": ".py",
   "mimetype": "text/x-python",
   "name": "python",
   "nbconvert_exporter": "python",
   "pygments_lexer": "ipython3",
   "version": "3.8.12"
  },
  "orig_nbformat": 4
 },
 "nbformat": 4,
 "nbformat_minor": 2
}
